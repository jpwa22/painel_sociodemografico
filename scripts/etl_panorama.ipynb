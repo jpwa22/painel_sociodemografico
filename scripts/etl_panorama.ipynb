{
 "cells": [
  {
   "cell_type": "code",
   "execution_count": 7,
   "id": "a4dbd417",
   "metadata": {},
   "outputs": [],
   "source": [
    "import time\n",
    "import os\n",
    "from selenium import webdriver\n",
    "from selenium.webdriver.common.by import By\n",
    "from selenium.webdriver.common.keys import Keys\n",
    "from selenium.webdriver.support.ui import WebDriverWait\n",
    "from selenium.webdriver.support import expected_conditions as EC"
   ]
  },
  {
   "cell_type": "code",
   "execution_count": 2,
   "id": "74739dd0",
   "metadata": {},
   "outputs": [],
   "source": [
    "\n",
    "# Municípios para teste\n",
    "municipios = ['Abreu e Lima', 'Afogados da Ingazeira', 'Afrânio', 'Agrestina', 'Água Preta', 'Águas Belas', 'Alagoinha',\n",
    "'Aliança', 'Altinho', 'Amaraji', 'Angelim', 'Araçoiaba', 'Araripina', 'Arcoverde', 'Barra de Guabiraba', 'Barreiros',\n",
    "'Belém de Maria', 'Belém do São Francisco', 'Belo Jardim', 'Betânia', 'Bezerros', 'Bodocó', 'Bom Conselho',\n",
    "'Bom Jardim', 'Bonito', 'Brejão', 'Brejinho', 'Brejo da Madre de Deus', 'Buenos Aires', 'Buíque',\n",
    "'Cabo de Santo Agostinho', 'Cabrobó', 'Cachoeirinha', 'Caetés', 'Calçado', 'Calumbi', 'Camaragibe',\n",
    "'Camocim de São Félix', 'Camutanga', 'Canhotinho', 'Capoeiras', 'Carnaíba', 'Carnaubeira da Penha', 'Carpina',\n",
    "'Caruaru', 'Casinhas', 'Catende', 'Cedro', 'Chã de Alegria', 'Chã Grande', 'Condado', 'Correntes', 'Cortês',\n",
    "'Cumaru', 'Cupira', 'Custódia', 'Dormentes', 'Escada', 'Exu', 'Feira Nova', 'Fernando de Noronha', 'Ferreiros',\n",
    "'Flores', 'Floresta', 'Frei Miguelinho', 'Gameleira', 'Garanhuns', 'Glória do Goitá', 'Goiana', 'Granito',\n",
    "'Gravatá', 'Iati', 'Ibimirim', 'Ibirajuba', 'Igarassu', 'Iguaraci', 'Inajá', 'Ingazeira', 'Ipojuca', 'Ipubi',\n",
    "'Itacuruba', 'Itaíba', 'Ilha de Itamaracá', 'Itambé', 'Itapetim', 'Itapissuma', 'Itaquitinga', 'Jaboatão dos Guararapes',\n",
    "'Jaqueira', 'Jataúba', 'Jatobá', 'João Alfredo', 'Joaquim Nabuco', 'Jucati', 'Jupi', 'Jurema', 'Lagoa do Carro',\n",
    "'Lagoa do Itaenga', 'Lagoa do Ouro', 'Lagoa dos Gatos', 'Lagoa Grande', 'Lajedo', 'Limoeiro', 'Macaparana', 'Machados',\n",
    "'Manari', 'Maraial', 'Mirandiba', 'Moreilândia', 'Moreno', 'Nazaré da Mata', 'Olinda', 'Orobó', 'Orocó', 'Ouricuri',\n",
    "'Palmares', 'Palmeirina', 'Panelas', 'Paranatama', 'Parnamirim', 'Passira', 'Paudalho', 'Paulista', 'Pedra',\n",
    "'Pesqueira', 'Petrolândia', 'Petrolina', 'Poção', 'Pombos', 'Primavera', 'Quipapá', 'Quixaba', 'Recife',\n",
    "'Riacho das Almas', 'Ribeirão', 'Rio Formoso', 'Sairé', 'Salgadinho', 'Salgueiro', 'Saloá', 'Sanharó',\n",
    "'Santa Cruz', 'Santa Cruz da Baixa Verde', 'Santa Cruz do Capibaribe', 'Santa Filomena', 'Santa Maria da Boa Vista',\n",
    "'Santa Maria do Cambucá', 'Santa Terezinha', 'São Benedito do Sul', 'São Bento do Una', 'São Caitano',\n",
    "'São João', 'São Joaquim do Monte', 'São José da Coroa Grande', 'São José do Belmonte', 'São José do Egito',\n",
    "'São Lourenço da Mata', 'São Vicente Férrer', 'Serra Talhada', 'Serrita', 'Sertânia', 'Sirinhaém', 'Solidão',\n",
    "'Surubim', 'Tabira', 'Tacaimbó', 'Tacaratu', 'Tamandaré', 'Taquaritinga do Norte', 'Terezinha', 'Terra Nova',\n",
    "'Timbaúba', 'Toritama', 'Tracunhaém', 'Trindade', 'Triunfo', 'Tupanatinga', 'Tuparetama', 'Venturosa',\n",
    "'Verdejante', 'Vertente do Lério', 'Vertentes', 'Vicência', 'Vitória de Santo Antão', 'Xexéu']\n"
   ]
  },
  {
   "cell_type": "code",
   "execution_count": 8,
   "id": "e703ce30",
   "metadata": {},
   "outputs": [],
   "source": [
    "# Municípios para teste\n",
    "municipios =[\"2600609\",\t\"2601052\",\t\"2602209\",\t\"2602308\",\t\"2602506\",\t\"2603108\",\t\"2604304\",\t\"2604601\",\t\"2605608\",\t\"2605707\",\t\"2606507\",\t\"2606903\",\t\"2607109\",\t\"2608057\",\t\"2608404\",\t\"2608503\",\t\"2608750\",\t\"2609600\",\t\"2610400\",\t\"2610707\",\t\"2610806\",\t\"2611408\",\t\"2611533\",\t\"2612109\",\t\"2612455\",\t\"2612554\",\t\"2613206\",\t\"2613800\",\t\"2614600\",\t\"2614857\",\t\"2615102\",\t\"2615706\"]\n"
   ]
  },
  {
   "cell_type": "code",
   "execution_count": 9,
   "id": "68142037",
   "metadata": {},
   "outputs": [],
   "source": [
    "# Pasta para salvar os arquivos baixados\n",
    "download_dir = os.path.join(os.getcwd(), 'downloads_censo')\n",
    "os.makedirs(download_dir, exist_ok=True)\n",
    "\n",
    "# Configurações do navegador\n",
    "options = webdriver.ChromeOptions()\n",
    "options.add_experimental_option('prefs', {\n",
    "    \"download.default_directory\": download_dir,\n",
    "    \"download.prompt_for_download\": False,\n",
    "    \"directory_upgrade\": True\n",
    "})\n"
   ]
  },
  {
   "cell_type": "code",
   "execution_count": 10,
   "id": "7488f9ed",
   "metadata": {},
   "outputs": [],
   "source": [
    "driver = webdriver.Chrome(options=options)"
   ]
  },
  {
   "cell_type": "code",
   "execution_count": 11,
   "id": "6e726ea5",
   "metadata": {},
   "outputs": [
    {
     "name": "stdout",
     "output_type": "stream",
     "text": [
      "✅ Download iniciado para: 2600609\n",
      "✅ Download iniciado para: 2601052\n",
      "✅ Download iniciado para: 2602209\n",
      "✅ Download iniciado para: 2602308\n",
      "✅ Download iniciado para: 2602506\n",
      "✅ Download iniciado para: 2603108\n",
      "✅ Download iniciado para: 2604304\n",
      "✅ Download iniciado para: 2604601\n",
      "✅ Download iniciado para: 2605608\n",
      "✅ Download iniciado para: 2605707\n",
      "✅ Download iniciado para: 2606507\n",
      "✅ Download iniciado para: 2606903\n",
      "✅ Download iniciado para: 2607109\n",
      "✅ Download iniciado para: 2608057\n",
      "✅ Download iniciado para: 2608404\n",
      "✅ Download iniciado para: 2608503\n",
      "✅ Download iniciado para: 2608750\n",
      "✅ Download iniciado para: 2609600\n",
      "✅ Download iniciado para: 2610400\n",
      "✅ Download iniciado para: 2610707\n",
      "✅ Download iniciado para: 2610806\n",
      "✅ Download iniciado para: 2611408\n",
      "✅ Download iniciado para: 2611533\n",
      "✅ Download iniciado para: 2612109\n",
      "✅ Download iniciado para: 2612455\n",
      "✅ Download iniciado para: 2612554\n",
      "✅ Download iniciado para: 2613206\n",
      "✅ Download iniciado para: 2613800\n",
      "✅ Download iniciado para: 2614600\n",
      "✅ Download iniciado para: 2614857\n",
      "✅ Download iniciado para: 2615102\n",
      "✅ Download iniciado para: 2615706\n"
     ]
    }
   ],
   "source": [
    "for municipio in municipios:\n",
    "    try:\n",
    "\n",
    "        driver.get(\"https://censo2022.ibge.gov.br/panorama/\")\n",
    "        wait = WebDriverWait(driver, 10)\n",
    "\n",
    "        # Clica no seletor visual do Select2\n",
    "        seletor_visual = wait.until(EC.element_to_be_clickable((By.CLASS_NAME, \"select2-selection\")))\n",
    "        seletor_visual.click()\n",
    "\n",
    "        # Digita o nome do município\n",
    "        campo_busca = wait.until(EC.presence_of_element_located((By.CLASS_NAME, \"select2-search__field\")))\n",
    "        campo_busca.clear()\n",
    "        campo_busca.send_keys(municipio)\n",
    "        time.sleep(10)  # espera dropdown aparecer\n",
    "        campo_busca.send_keys(Keys.ENTER)\n",
    "\n",
    "        # Aguarda botão de download aparecer e clica\n",
    "        time.sleep(3)  # espera dropdown aparecer\n",
    "        botao_download = wait.until(EC.element_to_be_clickable((By.CLASS_NAME, 'download')))\n",
    "        botao_download.click()\n",
    "\n",
    "        # Clica no item \".xlsx\" para baixar o ZIP\n",
    "        time.sleep(3)  # espera dropdown aparecer\n",
    "        botao_xlsx = wait.until(EC.element_to_be_clickable((By.CLASS_NAME, 'downloadXLSX')))\n",
    "        botao_xlsx.click()\n",
    "\n",
    "        print(f\"✅ Download iniciado para: {municipio}\")\n",
    "        time.sleep(10)  # aguarda o download terminar\n",
    "\n",
    "    except Exception as e:\n",
    "        print(f\"❌ Erro ao processar {municipio}: {e}\")\n"
   ]
  },
  {
   "cell_type": "code",
   "execution_count": 12,
   "id": "401b4361",
   "metadata": {},
   "outputs": [],
   "source": [
    "driver.quit()"
   ]
  }
 ],
 "metadata": {
  "kernelspec": {
   "display_name": "Python 3",
   "language": "python",
   "name": "python3"
  },
  "language_info": {
   "codemirror_mode": {
    "name": "ipython",
    "version": 3
   },
   "file_extension": ".py",
   "mimetype": "text/x-python",
   "name": "python",
   "nbconvert_exporter": "python",
   "pygments_lexer": "ipython3",
   "version": "3.12.10"
  }
 },
 "nbformat": 4,
 "nbformat_minor": 5
}
